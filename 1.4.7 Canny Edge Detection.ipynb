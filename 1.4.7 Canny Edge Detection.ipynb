{
 "cells": [
  {
   "cell_type": "code",
   "execution_count": null,
   "metadata": {},
   "outputs": [],
   "source": [
    "import cv2\n",
    "from PIL import Image\n",
    "import numpy as np\n",
    "import matplotlib.pyplot as pl\n",
    "from matplotlib import pyplot as plt"
   ]
  },
  {
   "cell_type": "code",
   "execution_count": null,
   "metadata": {},
   "outputs": [],
   "source": [
    "img = cv2.imread('lenna.png',0)\n",
    "edges100 = cv2.Canny(img,100,100)\n",
    "edges200 = cv2.Canny(img,200,200)\n",
    "edges = cv2.Canny(img,100,200)"
   ]
  },
  {
   "cell_type": "code",
   "execution_count": null,
   "metadata": {},
   "outputs": [],
   "source": [
    "plt.figure(figsize=(24,8))\n",
    "plt.subplot(1,3,1),plt.imshow(edges100,cmap = 'gray')\n",
    "plt.title('Original'), plt.xticks([]), plt.yticks([])\n",
    "plt.subplot(1,3,2),plt.imshow(edges200,cmap = 'gray')\n",
    "plt.title('Laplacian'), plt.xticks([]), plt.yticks([])\n",
    "plt.subplot(1,3,3),plt.imshow(edges,cmap = 'gray')\n",
    "plt.title('Sobel X'), plt.xticks([]), plt.yticks([])\n",
    "plt.show()\n"
   ]
  },
  {
   "cell_type": "code",
   "execution_count": null,
   "metadata": {},
   "outputs": [],
   "source": [
    "contours, hierarchy = cv2.findContours(thresh, cv2.RETR_TREE, cv2.CHAIN_APPROX_SIMPLE)\n",
    "img0 = im.copy()\n",
    "img1 = im.copy()\n",
    "img0 = cv2.drawContours(img0, contours, 2, (255,0,0), 3)\n",
    "img1 = cv2.drawContours(img1, contours, 3, (255,0,0), 3)    "
   ]
  },
  {
   "cell_type": "code",
   "execution_count": null,
   "metadata": {},
   "outputs": [],
   "source": [
    "cnt = contours[2]\n",
    "M = cv2.moments(cnt)\n",
    "print(M)\n",
    "cx = int(M['m10']/M['m00'])\n",
    "cy = int(M['m01']/M['m00'])\n",
    "img0 = cv2.rectangle(img0, (cx-2,cy-2),(cx+2,cy+2),(0,0,255),2)"
   ]
  },
  {
   "cell_type": "code",
   "execution_count": null,
   "metadata": {},
   "outputs": [],
   "source": [
    "size = []\n",
    "for i in range(len(contours)):\n",
    "    size.append((i, contours[i].shape[0]))\n",
    "\n",
    "\n",
    "cnt = contours[9]\n",
    "epsilon = 0.001*cv2.arcLength(cnt,True)\n",
    "approx = cv2.approxPolyDP(cnt,epsilon,True)\n",
    "hull = cv2.convexHull(approx)\n",
    "x,y,w,h = cv2.boundingRect(cnt)\n",
    "rect = cv2.minAreaRect(cnt)\n",
    "area = cv2.contourArea(cnt)\n",
    "perimeter = cv2.arcLength(cnt,True)"
   ]
  }
 ],
 "metadata": {
  "language_info": {
   "name": "python"
  }
 },
 "nbformat": 4,
 "nbformat_minor": 2
}
