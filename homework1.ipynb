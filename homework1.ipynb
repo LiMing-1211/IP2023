{
 "cells": [
  {
   "cell_type": "markdown",
   "metadata": {},
   "source": [
    "과제"
   ]
  },
  {
   "cell_type": "markdown",
   "metadata": {},
   "source": [
    "왼쪽 상단 좌표찍기 (font)"
   ]
  },
  {
   "cell_type": "code",
   "execution_count": 1,
   "metadata": {},
   "outputs": [],
   "source": [
    "import cv2\n",
    "import numpy as np\n",
    "import random\n",
    "\n",
    "# 바탕화면이 될 이미지 로드\n",
    "img = cv2.imread('shin.jpg')\n",
    "img_copy = img.copy()  # Create a copy of the image\n",
    "\n",
    "# 트랙바를 위한 초기값 설정\n",
    "value = 0\n",
    "\n",
    "drawing = False # true 상태는 마우스가 눌려진 상태를 말함\n",
    "ix,iy = -1,-1\n",
    "\n",
    "# 마우스 이벤트 콜백 함수\n",
    "def draw_circle(event, x, y, flags, param):\n",
    "    # img 변수를 전역으로 선언\n",
    "    global ix,iy,drawing,img\n",
    "\n",
    "    if event == cv2.EVENT_LBUTTONDOWN:\n",
    "        drawing = True\n",
    "        ix,iy = x,y\n",
    "        \n",
    "    elif event == cv2.EVENT_MOUSEMOVE:\n",
    "        if drawing == True:\n",
    "            img[:,:,:] = img_copy[:,:,:]\n",
    "            cv2.rectangle(img,(ix,iy),(x,y),(0,255,0),1)\n",
    "            \n",
    "    elif event == cv2.EVENT_LBUTTONUP:\n",
    "        drawing = False\n",
    "        \n",
    "        img[:,:,:] = img_copy[:,:,:]\n",
    "        img = img_copy.copy()  # Restore the original image before drawing anything new.\n",
    "        \n",
    "        #색상 바꾸기 []안에 마지막 숫자 (위치 바꾸기 [x,y 좌표])\n",
    "        img[300:-300,300:-300,2] = 255\n",
    "        \n",
    "        #왼쪽 상단 마우스 클릭 좌표 생성\n",
    "        font = cv2.FONT_HERSHEY_SIMPLEX \n",
    "        start_pos = '('+str(ix)+','+str(iy)+')'\n",
    "        end_pos = '('+str(x)+','+str(y)+')'\n",
    "        pos = 'mouse-' + start_pos + ' ' + end_pos\n",
    "\n",
    "        cv2.putText(img, pos, (10,40), font,\n",
    "                    1,(255,255,255),2,cv2.LINE_AA)\n",
    "\n",
    "# 윈도우 생성하고 이벤트 콜백 함수를 윈도우에 바인딩  \n",
    "cv2.namedWindow('image')\n",
    "cv2.setMouseCallback('image', draw_circle)\n",
    "\n",
    "# 'value' 트랙바 생성 (0에서 255 범위)\n",
    "cv2.createTrackbar('value', 'image', 0 ,255 , lambda x: None)\n",
    "\n",
    "while True:\n",
    "    cv2.imshow('image', img)\n",
    "    \n",
    "    # Get the current position of the 'value' trackbar \n",
    "    value = cv2.getTrackbarPos('value','image')\n",
    "\n",
    "    if cv2.waitKey(20) & 0xFF ==27:   # Press 'Esc' key to exit \n",
    "         break\n",
    "        \n",
    "cv2.destroyAllWindows()\n"
   ]
  }
 ],
 "metadata": {
  "kernelspec": {
   "display_name": "IP2023",
   "language": "python",
   "name": "python3"
  },
  "language_info": {
   "codemirror_mode": {
    "name": "ipython",
    "version": 3
   },
   "file_extension": ".py",
   "mimetype": "text/x-python",
   "name": "python",
   "nbconvert_exporter": "python",
   "pygments_lexer": "ipython3",
   "version": "3.8.17"
  },
  "orig_nbformat": 4
 },
 "nbformat": 4,
 "nbformat_minor": 2
}
